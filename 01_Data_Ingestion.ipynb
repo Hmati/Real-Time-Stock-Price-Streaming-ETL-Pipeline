{
 "cells": [
  {
   "cell_type": "code",
   "execution_count": 3,
   "id": "2275ead1-ca56-4e9f-b645-29bd6bd7bd9a",
   "metadata": {},
   "outputs": [
    {
     "name": "stdout",
     "output_type": "stream",
     "text": [
      "Collecting kafka-python\n",
      "  Downloading kafka_python-2.0.2-py2.py3-none-any.whl.metadata (7.8 kB)\n",
      "Downloading kafka_python-2.0.2-py2.py3-none-any.whl (246 kB)\n",
      "Installing collected packages: kafka-python\n",
      "Successfully installed kafka-python-2.0.2\n",
      "Note: you may need to restart the kernel to use updated packages.\n"
     ]
    }
   ],
   "source": [
    "pip install --upgrade kafka-python"
   ]
  },
  {
   "cell_type": "code",
   "execution_count": 1,
   "id": "74d87dac-d7c7-4f09-80f0-46d4848af1d8",
   "metadata": {},
   "outputs": [
    {
     "name": "stdout",
     "output_type": "stream",
     "text": [
      "Name: kafka-python\n",
      "Version: 2.0.2\n",
      "Summary: Pure Python client for Apache Kafka\n",
      "Home-page: https://github.com/dpkp/kafka-python\n",
      "Author: Dana Powers\n",
      "Author-email: dana.powers@gmail.com\n",
      "License: Apache License 2.0\n",
      "Location: c:\\users\\admin\\anaconda3\\lib\\site-packages\n",
      "Requires: \n",
      "Required-by: \n",
      "Note: you may need to restart the kernel to use updated packages.\n"
     ]
    }
   ],
   "source": [
    "pip show kafka-python"
   ]
  },
  {
   "cell_type": "code",
   "execution_count": null,
   "id": "310c64ae-2040-4ebf-9e68-c27844c8a740",
   "metadata": {},
   "outputs": [
    {
     "name": "stdout",
     "output_type": "stream",
     "text": [
      "Starting data ingestion for stock: AAPL...\n",
      "Sent to Kafka: {'symbol': 'AAPL', 'timestamp': '2024-12-11 18:20:00', 'open': '246.7300', 'high': '246.8200', 'low': '246.7000', 'close': '246.7200', 'volume': '1631'}\n",
      "Sent to Kafka: {'symbol': 'AAPL', 'timestamp': '2024-12-11 18:20:00', 'open': '246.7300', 'high': '246.8200', 'low': '246.7000', 'close': '246.7200', 'volume': '1631'}\n",
      "Sent to Kafka: {'symbol': 'AAPL', 'timestamp': '2024-12-11 18:20:00', 'open': '246.7300', 'high': '246.8200', 'low': '246.7000', 'close': '246.7200', 'volume': '1631'}\n",
      "Sent to Kafka: {'symbol': 'AAPL', 'timestamp': '2024-12-11 18:20:00', 'open': '246.7300', 'high': '246.8200', 'low': '246.7000', 'close': '246.7200', 'volume': '1631'}\n",
      "Sent to Kafka: {'symbol': 'AAPL', 'timestamp': '2024-12-11 18:20:00', 'open': '246.7300', 'high': '246.8200', 'low': '246.7000', 'close': '246.7200', 'volume': '1631'}\n"
     ]
    }
   ],
   "source": [
    "# 01_Data_Ingestion.ipynb\n",
    "\n",
    "# Import necessary libraries\n",
    "import requests\n",
    "import json\n",
    "import time\n",
    "from kafka import KafkaProducer\n",
    "\n",
    "# Alpha Vantage API configuration\n",
    "API_KEY = \"your_alpha_vantage_api_key\"  # Replace with your API key\n",
    "STOCK_SYMBOL = \"AAPL\"  # Replace with your desired stock symbol\n",
    "URL = f\"https://www.alphavantage.co/query?function=TIME_SERIES_INTRADAY&symbol={STOCK_SYMBOL}&interval=1min&apikey={API_KEY}\"\n",
    "\n",
    "# Kafka configuration\n",
    "KAFKA_BROKER = \"localhost:9092\"  # Replace with your Kafka broker's address\n",
    "TOPIC_NAME = \"stock_prices\"\n",
    "\n",
    "# Initialize Kafka Producer\n",
    "producer = KafkaProducer(\n",
    "    bootstrap_servers=KAFKA_BROKER,\n",
    "    value_serializer=lambda x: json.dumps(x).encode('utf-8')\n",
    ")\n",
    "\n",
    "# Function to fetch stock prices from Alpha Vantage\n",
    "def fetch_stock_data():\n",
    "    try:\n",
    "        response = requests.get(URL)\n",
    "        data = response.json()\n",
    "        \n",
    "        if \"Time Series (1min)\" in data:\n",
    "            # Extract the latest data point\n",
    "            time_series = data[\"Time Series (1min)\"]\n",
    "            latest_timestamp = sorted(time_series.keys())[0]\n",
    "            stock_info = time_series[latest_timestamp]\n",
    "            \n",
    "            # Format the data\n",
    "            formatted_data = {\n",
    "                \"symbol\": STOCK_SYMBOL,\n",
    "                \"timestamp\": latest_timestamp,\n",
    "                \"open\": stock_info[\"1. open\"],\n",
    "                \"high\": stock_info[\"2. high\"],\n",
    "                \"low\": stock_info[\"3. low\"],\n",
    "                \"close\": stock_info[\"4. close\"],\n",
    "                \"volume\": stock_info[\"5. volume\"]\n",
    "            }\n",
    "            return formatted_data\n",
    "        else:\n",
    "            print(\"Error fetching data:\", data)\n",
    "            return None\n",
    "    except Exception as e:\n",
    "        print(f\"Error: {e}\")\n",
    "        return None\n",
    "\n",
    "# Main function to fetch and stream data to Kafka\n",
    "# Wait for the Alpha Vantage API to update data (approximately 60 seconds)\n",
    "# Reduce unnecessary API calls by fetching every minute\n",
    "def stream_to_kafka():\n",
    "    print(f\"Starting data ingestion for stock: {STOCK_SYMBOL}...\")\n",
    "    \n",
    "    while True:\n",
    "        stock_data = fetch_stock_data()\n",
    "        \n",
    "        if stock_data:\n",
    "            # Send data to Kafka\n",
    "            producer.send(TOPIC_NAME, value=stock_data)\n",
    "            print(f\"Sent to Kafka: {stock_data}\")\n",
    "        else:\n",
    "            print(\"No new data to send.\")\n",
    "        \n",
    "        # Wait for the Alpha Vantage API to update the data\n",
    "        time.sleep(60)\n",
    "\n",
    "\n",
    "# Run the streaming function\n",
    "if __name__ == \"__main__\":\n",
    "    stream_to_kafka()\n"
   ]
  },
  {
   "cell_type": "code",
   "execution_count": null,
   "id": "a2833957-35a9-4c22-ba3b-b3c3d676b2ea",
   "metadata": {},
   "outputs": [],
   "source": []
  }
 ],
 "metadata": {
  "kernelspec": {
   "display_name": "Python 3 (ipykernel)",
   "language": "python",
   "name": "python3"
  },
  "language_info": {
   "codemirror_mode": {
    "name": "ipython",
    "version": 3
   },
   "file_extension": ".py",
   "mimetype": "text/x-python",
   "name": "python",
   "nbconvert_exporter": "python",
   "pygments_lexer": "ipython3",
   "version": "3.10.15"
  }
 },
 "nbformat": 4,
 "nbformat_minor": 5
}

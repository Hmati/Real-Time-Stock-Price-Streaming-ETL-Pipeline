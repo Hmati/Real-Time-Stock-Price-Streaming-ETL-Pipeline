{
 "cells": [
  {
   "cell_type": "markdown",
   "id": "d001a248-9610-4783-a3f4-d0b6bce7729f",
   "metadata": {},
   "source": [
    "#  02_ETL_Processing.ipynb\n",
    "\n",
    "### Purpose\n",
    "\n",
    "- Consume the stock price data from the Kafka topic.\n",
    "- Perform basic transformations and calculations (e.g., moving averages).\n",
    "- Save the processed data for further analysis."
   ]
  },
  {
   "cell_type": "code",
   "execution_count": null,
   "id": "e0d54147-eea6-47d6-a6f3-25e7a7891acf",
   "metadata": {},
   "outputs": [
    {
     "name": "stdout",
     "output_type": "stream",
     "text": [
      "Starting ETL process...\n",
      "Consumed message: {'symbol': 'AAPL', 'timestamp': '2024-12-11 18:20:00', 'open': '246.7300', 'high': '246.8200', 'low': '246.7000', 'close': '246.7200', 'volume': '1631'}\n",
      "Consumed message: {'symbol': 'AAPL', 'timestamp': '2024-12-11 18:20:00', 'open': '246.7300', 'high': '246.8200', 'low': '246.7000', 'close': '246.7200', 'volume': '1631'}\n",
      "Consumed message: {'symbol': 'AAPL', 'timestamp': '2024-12-11 18:20:00', 'open': '246.7300', 'high': '246.8200', 'low': '246.7000', 'close': '246.7200', 'volume': '1631'}\n",
      "Consumed message: {'symbol': 'AAPL', 'timestamp': '2024-12-11 18:20:00', 'open': '246.7300', 'high': '246.8200', 'low': '246.7000', 'close': '246.7200', 'volume': '1631'}\n",
      "Consumed message: {'symbol': 'AAPL', 'timestamp': '2024-12-11 18:20:00', 'open': '246.7300', 'high': '246.8200', 'low': '246.7000', 'close': '246.7200', 'volume': '1631'}\n",
      "Consumed message: {'symbol': 'AAPL', 'timestamp': '2024-12-11 18:20:00', 'open': '246.7300', 'high': '246.8200', 'low': '246.7000', 'close': '246.7200', 'volume': '1631'}\n",
      "Consumed message: {'symbol': 'AAPL', 'timestamp': '2024-12-11 18:20:00', 'open': '246.7300', 'high': '246.8200', 'low': '246.7000', 'close': '246.7200', 'volume': '1631'}\n",
      "Consumed message: {'symbol': 'AAPL', 'timestamp': '2024-12-11 18:20:00', 'open': '246.7300', 'high': '246.8200', 'low': '246.7000', 'close': '246.7200', 'volume': '1631'}\n",
      "Consumed message: {'symbol': 'AAPL', 'timestamp': '2024-12-11 18:20:00', 'open': '246.7300', 'high': '246.8200', 'low': '246.7000', 'close': '246.7200', 'volume': '1631'}\n",
      "Consumed message: {'symbol': 'AAPL', 'timestamp': '2024-12-11 18:20:00', 'open': '246.7300', 'high': '246.8200', 'low': '246.7000', 'close': '246.7200', 'volume': '1631'}\n",
      "Consumed message: {'symbol': 'AAPL', 'timestamp': '2024-12-11 18:20:00', 'open': '246.7300', 'high': '246.8200', 'low': '246.7000', 'close': '246.7200', 'volume': '1631'}\n",
      "Consumed message: {'symbol': 'AAPL', 'timestamp': '2024-12-11 18:20:00', 'open': '246.7300', 'high': '246.8200', 'low': '246.7000', 'close': '246.7200', 'volume': '1631'}\n",
      "Consumed message: {'symbol': 'AAPL', 'timestamp': '2024-12-11 18:20:00', 'open': '246.7300', 'high': '246.8200', 'low': '246.7000', 'close': '246.7200', 'volume': '1631'}\n",
      "Consumed message: {'symbol': 'AAPL', 'timestamp': '2024-12-11 18:20:00', 'open': '246.7300', 'high': '246.8200', 'low': '246.7000', 'close': '246.7200', 'volume': '1631'}\n",
      "Consumed message: {'symbol': 'AAPL', 'timestamp': '2024-12-11 18:20:00', 'open': '246.7300', 'high': '246.8200', 'low': '246.7000', 'close': '246.7200', 'volume': '1631'}\n",
      "Consumed message: {'symbol': 'AAPL', 'timestamp': '2024-12-11 18:20:00', 'open': '246.7300', 'high': '246.8200', 'low': '246.7000', 'close': '246.7200', 'volume': '1631'}\n",
      "Consumed message: {'symbol': 'AAPL', 'timestamp': '2024-12-11 18:20:00', 'open': '246.7300', 'high': '246.8200', 'low': '246.7000', 'close': '246.7200', 'volume': '1631'}\n",
      "Consumed message: {'symbol': 'AAPL', 'timestamp': '2024-12-11 18:20:00', 'open': '246.7300', 'high': '246.8200', 'low': '246.7000', 'close': '246.7200', 'volume': '1631'}\n",
      "Consumed message: {'symbol': 'AAPL', 'timestamp': '2024-12-11 18:20:00', 'open': '246.7300', 'high': '246.8200', 'low': '246.7000', 'close': '246.7200', 'volume': '1631'}\n",
      "Consumed message: {'symbol': 'AAPL', 'timestamp': '2024-12-11 18:20:00', 'open': '246.7300', 'high': '246.8200', 'low': '246.7000', 'close': '246.7200', 'volume': '1631'}\n",
      "Consumed message: {'symbol': 'AAPL', 'timestamp': '2024-12-11 18:20:00', 'open': '246.7300', 'high': '246.8200', 'low': '246.7000', 'close': '246.7200', 'volume': '1631'}\n",
      "Consumed message: {'symbol': 'AAPL', 'timestamp': '2024-12-11 18:20:00', 'open': '246.7300', 'high': '246.8200', 'low': '246.7000', 'close': '246.7200', 'volume': '1631'}\n",
      "Consumed message: {'symbol': 'AAPL', 'timestamp': '2024-12-11 18:20:00', 'open': '246.7300', 'high': '246.8200', 'low': '246.7000', 'close': '246.7200', 'volume': '1631'}\n"
     ]
    }
   ],
   "source": [
    "# 02_ETL_Processing.ipynb\n",
    "\n",
    "# Import necessary libraries\n",
    "from kafka import KafkaConsumer\n",
    "import json\n",
    "import pandas as pd\n",
    "from datetime import datetime\n",
    "\n",
    "# Kafka configuration\n",
    "KAFKA_BROKER = \"localhost:9092\"  # Replace with your Kafka broker's address\n",
    "TOPIC_NAME = \"stock_prices\"\n",
    "\n",
    "# Initialize Kafka Consumer\n",
    "consumer = KafkaConsumer(\n",
    "    TOPIC_NAME,\n",
    "    bootstrap_servers=KAFKA_BROKER,\n",
    "    auto_offset_reset=\"earliest\",\n",
    "    value_deserializer=lambda x: json.loads(x.decode(\"utf-8\"))\n",
    ")\n",
    "\n",
    "# Create a DataFrame to store the data\n",
    "columns = [\"timestamp\", \"symbol\", \"open\", \"high\", \"low\", \"close\", \"volume\"]\n",
    "data = pd.DataFrame(columns=columns)\n",
    "\n",
    "# Moving average window size (e.g., 5 minutes)\n",
    "MOVING_AVG_WINDOW = 5\n",
    "\n",
    "# Function to calculate moving average\n",
    "def calculate_moving_average(df, column, window):\n",
    "    df[f\"{column}_moving_avg\"] = df[column].rolling(window=window).mean()\n",
    "\n",
    "# Process and transform the data\n",
    "print(\"Starting ETL process...\")\n",
    "for message in consumer:\n",
    "    # Get the stock data from Kafka\n",
    "    stock_data = message.value\n",
    "    print(f\"Consumed message: {stock_data}\")\n",
    "    \n",
    "    # Append the data to the DataFrame using pd.concat\n",
    "    row = {\n",
    "        \"timestamp\": datetime.strptime(stock_data[\"timestamp\"], \"%Y-%m-%d %H:%M:%S\"),\n",
    "        \"symbol\": stock_data[\"symbol\"],\n",
    "        \"open\": float(stock_data[\"open\"]),\n",
    "        \"high\": float(stock_data[\"high\"]),\n",
    "        \"low\": float(stock_data[\"low\"]),\n",
    "        \"close\": float(stock_data[\"close\"]),\n",
    "        \"volume\": int(stock_data[\"volume\"]),\n",
    "    }\n",
    "    # Append the data to the DataFrame only if it's not a duplicate\n",
    "if row not in data.to_dict('records'):\n",
    "    data = pd.concat([data, pd.DataFrame([row])], ignore_index=True)\n",
    "else:\n",
    "    print(f\"Duplicate data skipped: {row}\")\n",
    "\n",
    "    # Calculate moving averages\n",
    "    calculate_moving_average(data, \"close\", MOVING_AVG_WINDOW)\n",
    "    \n",
    "    # Save the processed data periodically (e.g., every 10 records)\n",
    "    if len(data) % 10 == 0:\n",
    "        data.to_csv(\"processed_stock_data.csv\", index=False)\n",
    "        print(f\"Saved {len(data)} records to 'processed_stock_data.csv'.\")\n"
   ]
  },
  {
   "cell_type": "code",
   "execution_count": null,
   "id": "8ff6ae52-6a00-472a-aebb-b14f855d4c06",
   "metadata": {},
   "outputs": [],
   "source": []
  },
  {
   "cell_type": "code",
   "execution_count": null,
   "id": "0ef26502-5ece-48e6-8451-beaba6f8716f",
   "metadata": {},
   "outputs": [],
   "source": []
  }
 ],
 "metadata": {
  "kernelspec": {
   "display_name": "Python 3 (ipykernel)",
   "language": "python",
   "name": "python3"
  },
  "language_info": {
   "codemirror_mode": {
    "name": "ipython",
    "version": 3
   },
   "file_extension": ".py",
   "mimetype": "text/x-python",
   "name": "python",
   "nbconvert_exporter": "python",
   "pygments_lexer": "ipython3",
   "version": "3.10.15"
  }
 },
 "nbformat": 4,
 "nbformat_minor": 5
}
